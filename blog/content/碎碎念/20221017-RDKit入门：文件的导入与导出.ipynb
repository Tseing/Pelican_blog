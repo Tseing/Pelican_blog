{
 "cells": [
  {
   "cell_type": "markdown",
   "metadata": {},
   "source": [
    "- title: RDKit 入门：文件的导入与导出\n",
    "- slug: rdkit-import-export-file\n",
    "- date: 2022-10-18\n",
    "- tags: RDKit, Python\n",
    "- summary: 介绍一些 RDKit 的基本操作，包括简单地创建分子、从外部文件中导入分子以及导出分子为外部文件。"
   ]
  },
  {
   "cell_type": "markdown",
   "metadata": {},
   "source": [
    "## 单个分子的导入与导出"
   ]
  },
  {
   "cell_type": "code",
   "execution_count": 68,
   "metadata": {
    "collapsed": true,
    "pycharm": {
     "name": "#%%\n"
    }
   },
   "outputs": [],
   "source": [
    "import pickle\n",
    "from rdkit import Chem"
   ]
  },
  {
   "cell_type": "markdown",
   "metadata": {
    "collapsed": false,
    "pycharm": {
     "name": "#%% md\n"
    }
   },
   "source": [
    "### SMILES\n",
    "\n",
    "#### 使用 SMILES 导入分子\n",
    "\n",
    "所有读取分子的函数都返回 `rdkit.Chem.rdchem.Mol` 对象，若读取失败，则反回 `None`。"
   ]
  },
  {
   "cell_type": "code",
   "execution_count": 69,
   "metadata": {
    "collapsed": false,
    "pycharm": {
     "name": "#%%\n"
    }
   },
   "outputs": [
    {
     "data": {
      "image/png": "[encoded data removed]",
      "text/plain": [
       "<rdkit.Chem.rdchem.Mol at 0x2079eda15d0>"
      ]
     },
     "execution_count": 69,
     "metadata": {},
     "output_type": "execute_result"
    }
   ],
   "source": [
    "m = Chem.MolFromSmiles('Cc1ccccc1')\n",
    "m"
   ]
  },
  {
   "cell_type": "markdown",
   "metadata": {
    "collapsed": false,
    "pycharm": {
     "name": "#%% md\n"
    }
   },
   "source": [
    "#### 导出为 SMILES\n",
    "\n",
    "使用 `Chem.MolToSmiles(mol, parameters)` 可以将对象 `mol` 转换为 SMILES 字符串，可选参数包括\n",
    "\n",
    "- `isomericSmiles=True`：是否区分同分异构体\n",
    "- `kekuleSmiles=False`：是否以 Kekule 式输出\n",
    "- `rootedAtAtom=-1`：非负时以指定的原子作为起始点\n",
    "- `canonical=True`：是否以标准 SMILES 输出\n",
    "- `allBondsExplicit=False`：是否表示出各个键\n",
    "- `allHsExplicit=False`：是否表示出各个氢原子"
   ]
  },
  {
   "cell_type": "code",
   "execution_count": 70,
   "metadata": {
    "collapsed": false,
    "pycharm": {
     "name": "#%%\n"
    }
   },
   "outputs": [
    {
     "name": "stdout",
     "output_type": "stream",
     "text": [
      "SMILES:         Cc1ccccc1\n",
      "Kekule:         CC1=CC=CC=C1\n",
      "Rooted atiom:   c1ccccc1C\n",
      "Non canonical:  Cc1ccccc1\n",
      "All bonds:      C-c1:c:c:c:c:c:1\n",
      "All H:          [CH3][c]1[cH][cH][cH][cH][cH]1\n"
     ]
    }
   ],
   "source": [
    "print(\"%-15s\" % \"SMILES: \", Chem.MolToSmiles(m))\n",
    "print(\"%-15s\" % \"Kekule: \", Chem.MolToSmiles(m, kekuleSmiles=True))\n",
    "print(\"%-15s\" % \"Rooted atiom: \", Chem.MolToSmiles(m, rootedAtAtom=2))\n",
    "print(\"%-15s\" % \"Non canonical: \", Chem.MolToSmiles(m, canonical=False))\n",
    "print(\"%-15s\" % \"All bonds: \", Chem.MolToSmiles(m, allBondsExplicit=True))\n",
    "print(\"%-15s\" % \"All H: \", Chem.MolToSmiles(m, allHsExplicit=True))"
   ]
  },
  {
   "cell_type": "markdown",
   "metadata": {
    "collapsed": false,
    "pycharm": {
     "name": "#%% md\n"
    }
   },
   "source": [
    "### .pkl 格式\n",
    "\n",
    "#### 转换为二进制并导出\n",
    "\n",
    "`pickle.dump()`：将对象以二进制形式存储"
   ]
  },
  {
   "cell_type": "code",
   "execution_count": 71,
   "metadata": {
    "collapsed": false,
    "pycharm": {
     "name": "#%%\n"
    }
   },
   "outputs": [
    {
     "data": {
      "text/plain": [
       "b'\\xef\\xbe\\xad\\xde\\x00\\x00\\x00\\x00\\r\\x00\\x00\\x00\\x00\\x00\\x00\\x00\\x01\\x00\\x00\\x00\\x07\\x00\\x00\\x00\\x07\\x00\\x00\\x00\\x80\\x01\\x06\\x00`\\x00\\x00\\x00\\x01\\x03\\x06@(\\x00\\x00\\x00\\x03\\x04\\x06@h\\x00\\x00\\x00\\x03\\x03\\x01\\x06@h\\x00\\x00\\x00\\x03\\x03\\x01\\x06@h\\x00\\x00\\x00\\x03\\x03\\x01\\x06@h\\x00\\x00\\x00\\x03\\x03\\x01\\x06@h\\x00\\x00\\x00\\x03\\x03\\x01\\x0b\\x00\\x01\\x00\\x01\\x02h\\x0c\\x02\\x03h\\x0c\\x03\\x04h\\x0c\\x04\\x05h\\x0c\\x05\\x06h\\x0c\\x06\\x01h\\x0c\\x14\\x01\\x06\\x01\\x06\\x05\\x04\\x03\\x02\\x17\\x04\\x00\\x00\\x00\\x00\\x00\\x00\\x00\\x16'"
      ]
     },
     "execution_count": 71,
     "metadata": {},
     "output_type": "execute_result"
    }
   ],
   "source": [
    "binary_m = m.ToBinary()\n",
    "\n",
    "with open(\"./binary_m.pkl\", \"wb\") as f:\n",
    "    pickle.dump(m, f)\n",
    "\n",
    "binary_m"
   ]
  },
  {
   "cell_type": "markdown",
   "metadata": {
    "collapsed": false,
    "pycharm": {
     "name": "#%% md\n"
    }
   },
   "source": [
    "#### 从二进制导入分子\n",
    "\n",
    "- `Chem.mol()`：将二进制字符串转为分子\n",
    "- `pickle.load()`：读取 `.pkl` 文件中存储的对象"
   ]
  },
  {
   "cell_type": "code",
   "execution_count": 72,
   "metadata": {
    "collapsed": false,
    "pycharm": {
     "name": "#%%\n"
    }
   },
   "outputs": [
    {
     "data": {
      "image/png": "[encoded data removed]",
      "text/plain": [
       "<rdkit.Chem.rdchem.Mol at 0x2079ece2f30>"
      ]
     },
     "execution_count": 72,
     "metadata": {},
     "output_type": "execute_result"
    }
   ],
   "source": [
    "m = Chem.Mol(binary_m)\n",
    "m"
   ]
  },
  {
   "cell_type": "code",
   "execution_count": 73,
   "metadata": {
    "collapsed": false,
    "pycharm": {
     "name": "#%%\n"
    }
   },
   "outputs": [
    {
     "data": {
      "image/png": "[encoded data removed]",
      "text/plain": [
       "<rdkit.Chem.rdchem.Mol at 0x2079ed3c930>"
      ]
     },
     "execution_count": 73,
     "metadata": {},
     "output_type": "execute_result"
    }
   ],
   "source": [
    "with open(\"./binary_m.pkl\", \"rb\") as f:\n",
    "    binary_m = f.read()\n",
    "\n",
    "m = pickle.loads(binary_m)\n",
    "m"
   ]
  },
  {
   "cell_type": "markdown",
   "metadata": {
    "collapsed": false,
    "pycharm": {
     "name": "#%% md\n"
    }
   },
   "source": [
    "### .mol 格式\n",
    "\n",
    "`Chem.MolToMolBlock(mol)`：输出分子的 `.mol` 信息\n",
    "`Chem.MolToMolFile(mol, filename)`：导出分子的 `.mol` 文件"
   ]
  },
  {
   "cell_type": "code",
   "execution_count": 74,
   "metadata": {
    "collapsed": false,
    "pycharm": {
     "name": "#%%\n"
    }
   },
   "outputs": [
    {
     "name": "stdout",
     "output_type": "stream",
     "text": [
      "\n",
      "     RDKit          2D\n",
      "\n",
      "  7  7  0  0  0  0  0  0  0  0999 V2000\n",
      "    3.0000    0.0000    0.0000 C   0  0  0  0  0  0  0  0  0  0  0  0\n",
      "    1.5000    0.0000    0.0000 C   0  0  0  0  0  0  0  0  0  0  0  0\n",
      "    0.7500   -1.2990    0.0000 C   0  0  0  0  0  0  0  0  0  0  0  0\n",
      "   -0.7500   -1.2990    0.0000 C   0  0  0  0  0  0  0  0  0  0  0  0\n",
      "   -1.5000    0.0000    0.0000 C   0  0  0  0  0  0  0  0  0  0  0  0\n",
      "   -0.7500    1.2990    0.0000 C   0  0  0  0  0  0  0  0  0  0  0  0\n",
      "    0.7500    1.2990    0.0000 C   0  0  0  0  0  0  0  0  0  0  0  0\n",
      "  1  2  1  0\n",
      "  2  3  2  0\n",
      "  3  4  1  0\n",
      "  4  5  2  0\n",
      "  5  6  1  0\n",
      "  6  7  2  0\n",
      "  7  2  1  0\n",
      "M  END\n",
      "\n"
     ]
    }
   ],
   "source": [
    "print(Chem.MolToMolBlock(m))"
   ]
  },
  {
   "cell_type": "markdown",
   "metadata": {
    "collapsed": false,
    "pycharm": {
     "name": "#%% md\n"
    }
   },
   "source": [
    "`.mol` 格式便于在其中添加信息，导入其他软件。此外，在生成 `.mol` 文件时会自动生成原子的坐标，避免导入其他软件时因为立体化学而出现问题。"
   ]
  },
  {
   "cell_type": "code",
   "execution_count": 75,
   "metadata": {
    "collapsed": false,
    "pycharm": {
     "name": "#%%\n"
    }
   },
   "outputs": [
    {
     "name": "stdout",
     "output_type": "stream",
     "text": [
      "Toluene\n",
      "     RDKit          2D\n",
      "\n",
      "  7  7  0  0  0  0  0  0  0  0999 V2000\n",
      "    3.0000    0.0000    0.0000 C   0  0  0  0  0  0  0  0  0  0  0  0\n",
      "    1.5000    0.0000    0.0000 C   0  0  0  0  0  0  0  0  0  0  0  0\n",
      "    0.7500   -1.2990    0.0000 C   0  0  0  0  0  0  0  0  0  0  0  0\n",
      "   -0.7500   -1.2990    0.0000 C   0  0  0  0  0  0  0  0  0  0  0  0\n",
      "   -1.5000    0.0000    0.0000 C   0  0  0  0  0  0  0  0  0  0  0  0\n",
      "   -0.7500    1.2990    0.0000 C   0  0  0  0  0  0  0  0  0  0  0  0\n",
      "    0.7500    1.2990    0.0000 C   0  0  0  0  0  0  0  0  0  0  0  0\n",
      "  1  2  1  0\n",
      "  2  3  2  0\n",
      "  3  4  1  0\n",
      "  4  5  2  0\n",
      "  5  6  1  0\n",
      "  6  7  2  0\n",
      "  7  2  1  0\n",
      "M  END\n",
      "\n"
     ]
    }
   ],
   "source": [
    "m.SetProp(\"_Name\", \"Toluene\")\n",
    "print(Chem.MolToMolBlock(m))"
   ]
  },
  {
   "cell_type": "markdown",
   "metadata": {
    "collapsed": false,
    "pycharm": {
     "name": "#%% md\n"
    }
   },
   "source": [
    "## 分子集的导入与导出\n",
    "\n",
    "### SMILES\n",
    "\n",
    "#### 导出 SMILES 分子集\n",
    "\n",
    "首先用 SMILES 创建多个分子并保存在列表中，作为分子集。"
   ]
  },
  {
   "cell_type": "code",
   "execution_count": 76,
   "metadata": {
    "collapsed": false,
    "pycharm": {
     "name": "#%%\n"
    }
   },
   "outputs": [
    {
     "data": {
      "image/png": "[encoded data removed]",
      "text/plain": [
       "<rdkit.Chem.rdchem.Mol at 0x2079ed91580>"
      ]
     },
     "execution_count": 76,
     "metadata": {},
     "output_type": "execute_result"
    }
   ],
   "source": [
    "mols_smiles = [ \"Cc1ccccc1\", \"C1CCCCC1\", \"c1cocc1\"]\n",
    "mols = [Chem.MolFromSmiles(mol) for mol in mols_smiles]\n",
    "mols[0]"
   ]
  },
  {
   "cell_type": "markdown",
   "metadata": {
    "collapsed": false,
    "pycharm": {
     "name": "#%% md\n"
    }
   },
   "source": [
    "分子集（化合物库）的主流保存格式是 `.smi` 与 `.sdf`，其中 `.smi` 直接保存了化合物的 SMILES 与名字，格式也十分简单，首行为标题，后续每行保存一个 SMILES，空格后为化合物名称，也可使用制表符作为分隔符，格式比较自由：\n",
    "\n",
    "```\n",
    "SMILES Name\n",
    "Cc1ccccc1 Toluene\n",
    "C1CCCCC1 molecule2\n",
    "c1cocc1 molecule3\n",
    "{SIMLES} {name}\n",
    "```\n",
    "\n",
    "RDKit 没有提供导出为 `.smi` 文件的函数，那么就需要根据自己的要求来生成。"
   ]
  },
  {
   "cell_type": "code",
   "execution_count": 77,
   "metadata": {
    "collapsed": false,
    "pycharm": {
     "name": "#%%\n"
    }
   },
   "outputs": [],
   "source": [
    "mols[0].SetProp(\"_Name\", \"Toluene\")\n",
    "\n",
    "with open(\"./mols.smi\", \"w\") as f:\n",
    "    title = \" \".join([\"SMILES\", \"Name\\n\"])\n",
    "    f.write(title)\n",
    "    for mol in mols:\n",
    "        try:\n",
    "            name = \"\".join([mol.GetProp(\"_Name\"), \"\\n\"])\n",
    "        except KeyError:\n",
    "            name = \"\\n\"\n",
    "        line = \" \".join([Chem.MolToSmiles(mol), name])\n",
    "        f.write(line)"
   ]
  },
  {
   "cell_type": "markdown",
   "metadata": {
    "collapsed": false,
    "pycharm": {
     "name": "#%% md\n"
    }
   },
   "source": [
    "#### 导入 SMILES 分子集\n",
    "\n",
    "`Chem.SmilesMolSupplier(filename, delimiter, smilesColumn, nameColumn, titleLine, sanitize)` 提供了读取 `.smi` 文件的快捷方法，返回一个可迭代对象。\n",
    "\n",
    "- `filename`：读取的文件路径\n",
    "- `delimiter=' '`：分隔符\n",
    "- `smilesColumn=0`：SMILES 所在列的索引\n",
    "- `nameColumn=1`：SMILES 对应名称所在列的索引\n",
    "- `titleLine=True`：是否有标题行\n",
    "- `sanitize=True`：是否检查 SMILES 数据正确性"
   ]
  },
  {
   "cell_type": "code",
   "execution_count": 80,
   "metadata": {
    "collapsed": false,
    "pycharm": {
     "name": "#%%\n"
    }
   },
   "outputs": [
    {
     "name": "stdout",
     "output_type": "stream",
     "text": [
      "Toluene\n"
     ]
    },
    {
     "data": {
      "image/png": "[encoded data removed]",
      "text/plain": [
       "<rdkit.Chem.rdchem.Mol at 0x2079ed33580>"
      ]
     },
     "execution_count": 80,
     "metadata": {},
     "output_type": "execute_result"
    }
   ],
   "source": [
    "mols_read = Chem.SmilesMolSupplier(\"./mols.smi\")\n",
    "print(mols_read[0].GetProp(\"_Name\"))\n",
    "mols_read[0]"
   ]
  },
  {
   "cell_type": "markdown",
   "metadata": {
    "collapsed": false,
    "pycharm": {
     "name": "#%% md\n"
    }
   },
   "source": [
    "### .sdf 格式\n",
    "\n",
    "#### 导出为 .sdf 分子集\n",
    "\n",
    "`.sdf` 是更为常用的分子集存储格式，可以使用 `Chem.SDWriter()` 导出文件。"
   ]
  },
  {
   "cell_type": "code",
   "execution_count": 79,
   "metadata": {
    "collapsed": false,
    "pycharm": {
     "name": "#%%\n"
    }
   },
   "outputs": [],
   "source": [
    "with Chem.SDWriter(\"./mols.sdf\") as f:\n",
    "    for mol in mols:\n",
    "        f.write(mol)"
   ]
  },
  {
   "cell_type": "markdown",
   "metadata": {
    "collapsed": false,
    "pycharm": {
     "name": "#%% md\n"
    }
   },
   "source": [
    "`.sdf` 文件保存的数据更为详细，文件中使用 `$$$$` 分隔不同分子：\n",
    "\n",
    "```\n",
    "Toluene\n",
    "     RDKit          2D\n",
    "\n",
    "  7  7  0  0  0  0  0  0  0  0999 V2000\n",
    "    3.0000    0.0000    0.0000 C   0  0  0  0  0  0  0  0  0  0  0  0\n",
    "    1.5000    0.0000    0.0000 C   0  0  0  0  0  0  0  0  0  0  0  0\n",
    "    0.7500   -1.2990    0.0000 C   0  0  0  0  0  0  0  0  0  0  0  0\n",
    "   -0.7500   -1.2990    0.0000 C   0  0  0  0  0  0  0  0  0  0  0  0\n",
    "   -1.5000    0.0000    0.0000 C   0  0  0  0  0  0  0  0  0  0  0  0\n",
    "   -0.7500    1.2990    0.0000 C   0  0  0  0  0  0  0  0  0  0  0  0\n",
    "    0.7500    1.2990    0.0000 C   0  0  0  0  0  0  0  0  0  0  0  0\n",
    "  1  2  1  0\n",
    "  2  3  2  0\n",
    "  3  4  1  0\n",
    "  4  5  2  0\n",
    "  5  6  1  0\n",
    "  6  7  2  0\n",
    "  7  2  1  0\n",
    "M  END\n",
    "$$$$\n",
    "\n",
    "     RDKit          2D\n",
    "\n",
    "  6  6  0  0  0  0  0  0  0  0999 V2000\n",
    "    1.5000    0.0000    0.0000 C   0  0  0  0  0  0  0  0  0  0  0  0\n",
    "    0.7500   -1.2990    0.0000 C   0  0  0  0  0  0  0  0  0  0  0  0\n",
    "   -0.7500   -1.2990    0.0000 C   0  0  0  0  0  0  0  0  0  0  0  0\n",
    "   -1.5000    0.0000    0.0000 C   0  0  0  0  0  0  0  0  0  0  0  0\n",
    "   -0.7500    1.2990    0.0000 C   0  0  0  0  0  0  0  0  0  0  0  0\n",
    "    0.7500    1.2990    0.0000 C   0  0  0  0  0  0  0  0  0  0  0  0\n",
    "  1  2  1  0\n",
    "  2  3  1  0\n",
    "  3  4  1  0\n",
    "  4  5  1  0\n",
    "  5  6  1  0\n",
    "  6  1  1  0\n",
    "M  END\n",
    "$$$$\n",
    "\n",
    "     RDKit          2D\n",
    "\n",
    "  5  5  0  0  0  0  0  0  0  0999 V2000\n",
    "    1.2760    0.0000    0.0000 C   0  0  0  0  0  0  0  0  0  0  0  0\n",
    "    0.3943    1.2135    0.0000 C   0  0  0  0  0  0  0  0  0  0  0  0\n",
    "   -1.0323    0.7500    0.0000 O   0  0  0  0  0  0  0  0  0  0  0  0\n",
    "   -1.0323   -0.7500    0.0000 C   0  0  0  0  0  0  0  0  0  0  0  0\n",
    "    0.3943   -1.2135    0.0000 C   0  0  0  0  0  0  0  0  0  0  0  0\n",
    "  1  2  2  0\n",
    "  2  3  1  0\n",
    "  3  4  1  0\n",
    "  4  5  2  0\n",
    "  5  1  1  0\n",
    "M  END\n",
    "$$$$\n",
    "```\n",
    "\n",
    "#### 从 .sdf 导入分子集\n",
    "\n",
    "与导入 `.smi` 文件相似，导入 `.sdf` 文件也有 `Chem.SDMolSupplier()` 函数，使用方法也类似。"
   ]
  },
  {
   "cell_type": "code",
   "execution_count": 81,
   "metadata": {
    "collapsed": false,
    "pycharm": {
     "name": "#%%\n"
    }
   },
   "outputs": [
    {
     "name": "stdout",
     "output_type": "stream",
     "text": [
      "Toluene\n"
     ]
    },
    {
     "data": {
      "image/png": "[encoded data removed]",
      "text/plain": [
       "<rdkit.Chem.rdchem.Mol at 0x2079ed2d2b0>"
      ]
     },
     "execution_count": 81,
     "metadata": {},
     "output_type": "execute_result"
    }
   ],
   "source": [
    "mols_read = Chem.SDMolSupplier(\"./mols.sdf\")\n",
    "print(mols_read[0].GetProp(\"_Name\"))\n",
    "mols_read[0]\n"
   ]
  }
 ],
 "metadata": {
  "kernelspec": {
   "display_name": "Python 3.9.2 64-bit",
   "language": "python",
   "name": "python3"
  },
  "language_info": {
   "codemirror_mode": {
    "name": "ipython",
    "version": 2
   },
   "file_extension": ".py",
   "mimetype": "text/x-python",
   "name": "python",
   "nbconvert_exporter": "python",
   "pygments_lexer": "ipython2",
   "version": "3.9.2"
  },
  "vscode": {
   "interpreter": {
    "hash": "916dbcbb3f70747c44a77c7bcd40155683ae19c65e1c03b4aa3499c5328201f1"
   }
  }
 },
 "nbformat": 4,
 "nbformat_minor": 0
}
