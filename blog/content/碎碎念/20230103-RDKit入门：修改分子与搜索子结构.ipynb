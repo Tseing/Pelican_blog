{
 "cells": [
  {
   "cell_type": "markdown",
   "metadata": {
    "collapsed": false,
    "pycharm": {
     "name": "#%% md\n"
    }
   },
   "source": [
    "- title: RDKit 入门：修改分子与搜索子结构\n",
    "- slug: rdkit-modify-search-molecule\n",
    "- date: 2023-01-03\n",
    "- tags: RDKit, Python\n",
    "- summary: 介绍使用 RDKit 修改分子以及在分子中搜索 SMARTS 子结构并高亮绘制子结构的方法。"
   ]
  },
  {
   "cell_type": "markdown",
   "metadata": {
    "collapsed": false,
    "pycharm": {
     "name": "#%% md\n"
    }
   },
   "source": [
    "## 修改分子"
   ]
  },
  {
   "cell_type": "code",
   "execution_count": 1,
   "metadata": {
    "collapsed": true,
    "pycharm": {
     "name": "#%%\n"
    }
   },
   "outputs": [],
   "source": [
    "from rdkit import Chem"
   ]
  },
  {
   "cell_type": "markdown",
   "metadata": {
    "collapsed": false,
    "pycharm": {
     "name": "#%% md\n"
    }
   },
   "source": [
    "### 加氢与去氢\n",
    "\n",
    "RDKit 默认隐藏了分子中的氢原子，但在优化分子的 3D 构象时，通常又需要在分子中加氢。实现加氢操作可以使用 `AddHs()`，去氢可以使用 `RemoveHs()`。"
   ]
  },
  {
   "cell_type": "code",
   "execution_count": 2,
   "metadata": {
    "collapsed": false,
    "pycharm": {
     "name": "#%%\n"
    }
   },
   "outputs": [
    {
     "name": "stdout",
     "output_type": "stream",
     "text": [
      "7\n",
      "15\n",
      "7\n"
     ]
    }
   ],
   "source": [
    "m = Chem.MolFromSmiles('Cc1ccccc1')\n",
    "print(m.GetNumAtoms())\n",
    "m2 = Chem.AddHs(m)\n",
    "print(m2.GetNumAtoms())\n",
    "m3 = Chem.RemoveHs(m2)\n",
    "print(m3.GetNumAtoms())\n"
   ]
  },
  {
   "cell_type": "markdown",
   "metadata": {
    "collapsed": false,
    "pycharm": {
     "name": "#%% md\n"
    }
   },
   "source": [
    "### 凯库勒式的转化\n",
    "\n",
    "RDKit 能将芳环中的化学键以芳香键的形式存储下来，使用 `GetBondType()` 查询化学键类型，化学键将显示为 `AROMATIC` 类型。"
   ]
  },
  {
   "cell_type": "code",
   "execution_count": 3,
   "metadata": {
    "collapsed": false,
    "pycharm": {
     "name": "#%%\n"
    }
   },
   "outputs": [
    {
     "data": {
      "text/plain": [
       "rdkit.Chem.rdchem.BondType.AROMATIC"
      ]
     },
     "execution_count": 3,
     "metadata": {},
     "output_type": "execute_result"
    }
   ],
   "source": [
    "m = Chem.MolFromSmiles('Cc1ccccc1')\n",
    "m.GetBondWithIdx(1).GetBondType()"
   ]
  },
  {
   "cell_type": "markdown",
   "metadata": {
    "collapsed": false,
    "pycharm": {
     "name": "#%% md\n"
    }
   },
   "source": [
    "使用 `Kekulize()` 可以将分子转化为凯库勒式，那么芳香键就会表示为单键或双键形式。"
   ]
  },
  {
   "cell_type": "code",
   "execution_count": 4,
   "metadata": {
    "collapsed": false,
    "pycharm": {
     "name": "#%%\n"
    }
   },
   "outputs": [
    {
     "name": "stdout",
     "output_type": "stream",
     "text": [
      "DOUBLE\n",
      "SINGLE\n"
     ]
    }
   ],
   "source": [
    "Chem.Kekulize(m)\n",
    "print(m.GetBondWithIdx(1).GetBondType())\n",
    "print(m.GetBondWithIdx(2).GetBondType())"
   ]
  },
  {
   "cell_type": "markdown",
   "metadata": {
    "collapsed": false,
    "pycharm": {
     "name": "#%% md\n"
    }
   },
   "source": [
    "虽然显示为单键与双键，使用 `GetIsAromatic()` 查询化学键是否具有芳香性，可以发现化学键仍具有芳香性，这与化学定义一致。"
   ]
  },
  {
   "cell_type": "code",
   "execution_count": 5,
   "metadata": {
    "collapsed": false,
    "pycharm": {
     "name": "#%%\n"
    }
   },
   "outputs": [
    {
     "data": {
      "text/plain": [
       "True"
      ]
     },
     "execution_count": 5,
     "metadata": {},
     "output_type": "execute_result"
    }
   ],
   "source": [
    "m.GetBondWithIdx(1).GetIsAromatic()"
   ]
  },
  {
   "cell_type": "markdown",
   "metadata": {
    "collapsed": false,
    "pycharm": {
     "name": "#%% md\n"
    }
   },
   "source": [
    "若要将分子转化为凯库勒式的同时去除分子化学键的芳香性，可以使用 `Kekulize(clearAromaticFlags=True)` 修改分子，分子中的芳香键标记就会被去除。"
   ]
  },
  {
   "cell_type": "code",
   "execution_count": 6,
   "metadata": {
    "collapsed": false,
    "pycharm": {
     "name": "#%%\n"
    }
   },
   "outputs": [
    {
     "data": {
      "text/plain": [
       "False"
      ]
     },
     "execution_count": 6,
     "metadata": {},
     "output_type": "execute_result"
    }
   ],
   "source": [
    "Chem.Kekulize(m, clearAromaticFlags=True)\n",
    "m.GetBondWithIdx(1).GetIsAromatic()"
   ]
  },
  {
   "cell_type": "markdown",
   "metadata": {
    "collapsed": false,
    "pycharm": {
     "name": "#%% md\n"
    }
   },
   "source": [
    "使用 `SanitizeMol()` 可以将凯库勒式形式的分子转化为原始形式，化学键类型也将以芳香键标记。"
   ]
  },
  {
   "cell_type": "code",
   "execution_count": 7,
   "metadata": {
    "collapsed": false,
    "pycharm": {
     "name": "#%%\n"
    }
   },
   "outputs": [
    {
     "name": "stdout",
     "output_type": "stream",
     "text": [
      "AROMATIC\n",
      "AROMATIC\n"
     ]
    }
   ],
   "source": [
    "Chem.SanitizeMol(m)\n",
    "print(m.GetBondWithIdx(1).GetBondType())\n",
    "print(m.GetBondWithIdx(2).GetBondType())\n"
   ]
  },
  {
   "cell_type": "markdown",
   "metadata": {
    "collapsed": false,
    "pycharm": {
     "name": "#%% md\n"
    }
   },
   "source": [
    "### Atom 类与 Bond 类\n",
    "\n",
    "RDKit `Chem.rdchem` 模块中定义了 `Atom` 类与 `Bond` 类，其中以 Get 为前缀的方法是查询相应的属性，而以 Set 为前缀的方法就是修改分子的原子和化学键，以下列举了一部分修改操作。\n",
    "\n",
    "#### Atom 类\n",
    "\n",
    "- `SetAtomicNum(int)`：通过原子序数改变指定原子。\n",
    "- `SetChiralTag(Chem.rdchem.ChiralType)`：设定指定原子的手性。例如\n",
    "    - `Chem.rdchem.ChiralType.CHI_TETRAHEDRAL_CCW` 为 S 构型；\n",
    "    - `Chem.rdchem.ChiralType.CHI_TETRAHEDRAL_CW` 为 R 构型。\n",
    "- `SetFormalCharge(int)`：设定原子携带电荷数量。\n",
    "- `SetHybridization(Chem.rdchem.HybridizationType)`：设定原子杂化类型。\n",
    "- `SetIsAromatic(bool)`：设定原子是否具有芳香性。\n",
    "- `SetIsotope(int)`：设定原子的同位素。\n",
    "- `SetNoImplicit(bool)`：设定原子是否带隐式氢。\n",
    "- `SetNumExplicitHs(int)`：设定原子固定显示氢的数量。\n",
    "- `SetNumRadicalElectrons(int)`：设定指定原子未成对电子数量。"
   ]
  },
  {
   "cell_type": "code",
   "execution_count": 8,
   "metadata": {
    "collapsed": false,
    "pycharm": {
     "name": "#%%\n"
    }
   },
   "outputs": [
    {
     "data": {
      "image/png": "[encoded data removed]",
      "text/plain": [
       "<rdkit.Chem.rdchem.Mol at 0x1d96975a350>"
      ]
     },
     "execution_count": 8,
     "metadata": {},
     "output_type": "execute_result"
    }
   ],
   "source": [
    "m = Chem.MolFromSmiles('OC(N)C')\n",
    "m.GetAtomWithIdx(3).SetAtomicNum(16)\n",
    "m.GetAtomWithIdx(1).SetChiralTag(Chem.rdchem.ChiralType.CHI_TETRAHEDRAL_CW)\n",
    "m.GetAtomWithIdx(1).SetIsotope(7)\n",
    "m.GetAtomWithIdx(0).SetFormalCharge(1)\n",
    "m"
   ]
  },
  {
   "cell_type": "markdown",
   "metadata": {
    "collapsed": false,
    "pycharm": {
     "name": "#%% md\n"
    }
   },
   "source": [
    "在修改分子后通常还需要检查步骤，避免出错，还可以输出修改后分子的 SMILES。"
   ]
  },
  {
   "cell_type": "code",
   "execution_count": 9,
   "metadata": {
    "collapsed": false,
    "pycharm": {
     "name": "#%%\n"
    }
   },
   "outputs": [
    {
     "data": {
      "text/plain": [
       "'N[7C@H]([OH2+])S'"
      ]
     },
     "execution_count": 9,
     "metadata": {},
     "output_type": "execute_result"
    }
   ],
   "source": [
    "Chem.SanitizeMol(m)\n",
    "Chem.MolToSmiles(m)"
   ]
  },
  {
   "cell_type": "markdown",
   "metadata": {
    "collapsed": false,
    "pycharm": {
     "name": "#%% md\n"
    }
   },
   "source": [
    "#### Bond 类\n",
    "\n",
    "- `SetBondDir(Chem.rdchem.BondDir)`：设定化学键显示形式。\n",
    "- `SetBondType(Chem.rdchem.BondType)`：设定化学键类型。\n",
    "- `SetIsAromatic(bool)`：设定化学键是否为芳香键。\n",
    "- `SetIsConjugated(bool)`：设定化学键是否共轭。\n",
    "- `SetStereo(Chem.rdchem.BondStereo)`：设定双键的几何构型，例如\n",
    "    - `Chem.rdchem.BondStereo.STEREOCIS` 为 cis 构型；\n",
    "    - `Chem.rdchem.BondStereo.STEREOTRANS` 为 trans 构型。"
   ]
  },
  {
   "cell_type": "code",
   "execution_count": 10,
   "metadata": {
    "collapsed": false,
    "pycharm": {
     "name": "#%%\n"
    }
   },
   "outputs": [
    {
     "data": {
      "image/png": "[encoded data removed]",
      "text/plain": [
       "<rdkit.Chem.rdchem.Mol at 0x1d9697531c0>"
      ]
     },
     "execution_count": 10,
     "metadata": {},
     "output_type": "execute_result"
    }
   ],
   "source": [
    "m = Chem.MolFromSmiles('N[7C@H]([OH2+])S')\n",
    "m.GetBondWithIdx(1).SetBondType(Chem.rdchem.BondType.DOUBLE)\n",
    "m"
   ]
  },
  {
   "cell_type": "markdown",
   "metadata": {
    "collapsed": false,
    "pycharm": {
     "name": "#%% md\n"
    }
   },
   "source": [
    "### RWMol 类\n",
    "\n",
    "RDKit 的 `Chem.rdchem.RWMol` 类用于读取与写入分子，定义了更复杂的修改分子的功能，用于修改分子的操作包括\n",
    "\n",
    "- `AddAtom(atom)`：在分子中添加原子。\n",
    "- `AddBond(beginAtomIdx, endAtomIdx)`：在指定的始末位置间添加化学键。\n",
    "- `InsertMol(mol)`：在分子中添加现成分子。\n",
    "- `RemoveAtom(int)`：移除分子中指定位置的原子。\n",
    "- `RemoveBond(int, int)`：移除分子中指定始末位置间的化学键。\n",
    "- `ReplaceAtom(index, atom)`：使用指定原子替换索引位置上的原子。\n",
    "- `ReplaceBond(index, bond)`：使用指定化学键替换索引位置上的化学键。\n",
    "\n",
    "使用 RWMol 中修改分子的操作，首先要创建 `RWMol` 类。"
   ]
  },
  {
   "cell_type": "code",
   "execution_count": 11,
   "metadata": {
    "collapsed": false,
    "pycharm": {
     "name": "#%%\n"
    }
   },
   "outputs": [
    {
     "data": {
      "image/png": "[encoded data removed]",
      "text/plain": [
       "<rdkit.Chem.rdchem.RWMol at 0x1d96974beb0>"
      ]
     },
     "execution_count": 11,
     "metadata": {},
     "output_type": "execute_result"
    }
   ],
   "source": [
    "m = Chem.MolFromSmiles('CC(=O)C=CC=C')\n",
    "mw = Chem.RWMol(m)\n",
    "mw"
   ]
  },
  {
   "cell_type": "markdown",
   "metadata": {
    "collapsed": false,
    "pycharm": {
     "name": "#%% md\n"
    }
   },
   "source": [
    "使用 `AddAtom()`添加原子后，所添加的原子不会与原来分子相连，通常需要搭配 `AddBond()` 方法。使用 `AddBond()` 添加化学键时，还可以设定参数 `order`，设置为 `Chem.rdchem.BondType` 类型，可以指定化学键类型。"
   ]
  },
  {
   "cell_type": "code",
   "execution_count": 12,
   "metadata": {
    "collapsed": false,
    "pycharm": {
     "name": "#%%\n"
    }
   },
   "outputs": [
    {
     "data": {
      "image/png": "[encoded data removed]",
      "text/plain": [
       "<rdkit.Chem.rdchem.RWMol at 0x1d96974beb0>"
      ]
     },
     "execution_count": 12,
     "metadata": {},
     "output_type": "execute_result"
    }
   ],
   "source": [
    "mw.AddAtom(Chem.Atom(8))\n",
    "mw.AddBond(3, 7, order=Chem.rdchem.BondType.UNSPECIFIED)\n",
    "mw"
   ]
  },
  {
   "cell_type": "markdown",
   "metadata": {
    "collapsed": false,
    "pycharm": {
     "name": "#%% md\n"
    }
   },
   "source": [
    "与 `Atom` 类不同，由于在 Python 中无法实例化 `Bond` 类，必须通过 `GetBonds()` 等方法从分子其他部分复制化学键后再用于替换。`ReplaceBond()` 中需要指定化学键的索引，可以通过以下方式得到。"
   ]
  },
  {
   "cell_type": "code",
   "execution_count": 13,
   "metadata": {
    "collapsed": false,
    "pycharm": {
     "name": "#%%\n"
    }
   },
   "outputs": [
    {
     "data": {
      "image/png": "[encoded data removed]",
      "text/plain": [
       "<rdkit.Chem.rdchem.RWMol at 0x1d96974beb0>"
      ]
     },
     "execution_count": 13,
     "metadata": {},
     "output_type": "execute_result"
    }
   ],
   "source": [
    "mw.ReplaceAtom(7, Chem.Atom(16))\n",
    "mw.ReplaceBond(mw.GetBondBetweenAtoms(3, 7).GetIdx(), mw.GetBondBetweenAtoms(0, 1))\n",
    "mw\n"
   ]
  },
  {
   "cell_type": "markdown",
   "metadata": {
    "collapsed": false,
    "pycharm": {
     "name": "#%% md\n"
    }
   },
   "source": [
    "其他操作也大同小异，需要注意在原始分子中增删原子后，可能导致原子索引发生变化。"
   ]
  },
  {
   "cell_type": "code",
   "execution_count": 14,
   "metadata": {
    "collapsed": false,
    "pycharm": {
     "name": "#%%\n"
    }
   },
   "outputs": [
    {
     "data": {
      "image/png": "[encoded data removed]",
      "text/plain": [
       "<rdkit.Chem.rdchem.RWMol at 0x1d96974beb0>"
      ]
     },
     "execution_count": 14,
     "metadata": {},
     "output_type": "execute_result"
    }
   ],
   "source": [
    "mw.InsertMol(Chem.MolFromSmiles('OC(N)C'))\n",
    "mw"
   ]
  },
  {
   "cell_type": "markdown",
   "metadata": {
    "collapsed": false,
    "pycharm": {
     "name": "#%% md\n"
    }
   },
   "source": [
    "修改完成后，需要将 `RWMol` 类转换为 `Mol` 对象。"
   ]
  },
  {
   "cell_type": "code",
   "execution_count": 15,
   "metadata": {
    "collapsed": false,
    "pycharm": {
     "name": "#%%\n"
    }
   },
   "outputs": [
    {
     "data": {
      "text/plain": [
       "rdkit.Chem.rdchem.Mol"
      ]
     },
     "execution_count": 15,
     "metadata": {},
     "output_type": "execute_result"
    }
   ],
   "source": [
    "m_edit = mw.GetMol()\n",
    "type(m_edit)"
   ]
  },
  {
   "cell_type": "markdown",
   "metadata": {
    "collapsed": false,
    "pycharm": {
     "name": "#%% md\n"
    }
   },
   "source": [
    "## 搜索子结构\n",
    "\n",
    "### 搜索单个分子\n",
    "\n",
    "- `HasSubstructMatch(pattern)`：指定分子结构中是否具有 pattern 目标结构。\n",
    "- `GetSubstructMatch(pattern)`：给出分子中 pattern 目标结构的原子索引。\n",
    "- `GetSubstructMatches(pattern)`：给出分子中所有 pattern 目标结构的原子索引。\n",
    "\n",
    "在搜索子结构时，即使在 pattern 中具有立体化学标记，也不考虑分子立体化学的匹配。若要考虑立体化学，需要指定参数 `useChirality=True`。\n"
   ]
  },
  {
   "cell_type": "code",
   "execution_count": 16,
   "metadata": {
    "collapsed": false,
    "pycharm": {
     "name": "#%%\n"
    }
   },
   "outputs": [
    {
     "data": {
      "image/svg+xml": "<svg baseProfile=\"full\" height=\"150px\" version=\"1.1\" viewBox=\"0 0 450 150\" width=\"450px\" xml:space=\"preserve\" xmlns=\"http://www.w3.org/2000/svg\" xmlns:rdkit=\"http://www.rdkit.org/xml\" xmlns:xlink=\"http://www.w3.org/1999/xlink\">\n<!-- END OF HEADER -->\n<rect height=\"150.0\" style=\"opacity:1.0;fill:#FFFFFF;stroke:none\" width=\"450.0\" x=\"0.0\" y=\"0.0\"> </rect>\n<path class=\"bond-0 atom-0 atom-1\" d=\"M 220.0,129.5 L 157.1,129.5\" style=\"fill:none;fill-rule:evenodd;stroke:#000000;stroke-width:2.0px;stroke-linecap:butt;stroke-linejoin:miter;stroke-opacity:1\"/>\n<path class=\"bond-0 atom-0 atom-1\" d=\"M 210.6,116.9 L 166.5,116.9\" style=\"fill:none;fill-rule:evenodd;stroke:#000000;stroke-width:2.0px;stroke-linecap:butt;stroke-linejoin:miter;stroke-opacity:1\"/>\n<path class=\"bond-1 atom-1 atom-2\" d=\"M 157.1,129.5 L 125.6,74.9\" style=\"fill:none;fill-rule:evenodd;stroke:#000000;stroke-width:2.0px;stroke-linecap:butt;stroke-linejoin:miter;stroke-opacity:1\"/>\n<path class=\"bond-2 atom-2 atom-3\" d=\"M 125.6,74.9 L 157.1,20.4\" style=\"fill:none;fill-rule:evenodd;stroke:#000000;stroke-width:2.0px;stroke-linecap:butt;stroke-linejoin:miter;stroke-opacity:1\"/>\n<path class=\"bond-2 atom-2 atom-3\" d=\"M 141.2,73.1 L 163.3,34.9\" style=\"fill:none;fill-rule:evenodd;stroke:#000000;stroke-width:2.0px;stroke-linecap:butt;stroke-linejoin:miter;stroke-opacity:1\"/>\n<path class=\"bond-3 atom-3 atom-4\" d=\"M 157.1,20.4 L 220.0,20.4\" style=\"fill:none;fill-rule:evenodd;stroke:#000000;stroke-width:2.0px;stroke-linecap:butt;stroke-linejoin:miter;stroke-opacity:1\"/>\n<path class=\"bond-4 atom-4 atom-5\" d=\"M 220.0,20.4 L 251.5,74.9\" style=\"fill:none;fill-rule:evenodd;stroke:#000000;stroke-width:2.0px;stroke-linecap:butt;stroke-linejoin:miter;stroke-opacity:1\"/>\n<path class=\"bond-4 atom-4 atom-5\" d=\"M 213.9,34.9 L 235.9,73.1\" style=\"fill:none;fill-rule:evenodd;stroke:#000000;stroke-width:2.0px;stroke-linecap:butt;stroke-linejoin:miter;stroke-opacity:1\"/>\n<path class=\"bond-5 atom-5 atom-6\" d=\"M 251.5,74.9 L 277.9,74.9\" style=\"fill:none;fill-rule:evenodd;stroke:#000000;stroke-width:2.0px;stroke-linecap:butt;stroke-linejoin:miter;stroke-opacity:1\"/>\n<path class=\"bond-5 atom-5 atom-6\" d=\"M 277.9,74.9 L 304.2,74.9\" style=\"fill:none;fill-rule:evenodd;stroke:#FF0000;stroke-width:2.0px;stroke-linecap:butt;stroke-linejoin:miter;stroke-opacity:1\"/>\n<path class=\"bond-6 atom-5 atom-0\" d=\"M 251.5,74.9 L 220.0,129.5\" style=\"fill:none;fill-rule:evenodd;stroke:#000000;stroke-width:2.0px;stroke-linecap:butt;stroke-linejoin:miter;stroke-opacity:1\"/>\n<path class=\"atom-6\" d=\"M 306.3 75.0 Q 306.3 70.7, 308.4 68.3 Q 310.6 65.9, 314.5 65.9 Q 318.5 65.9, 320.6 68.3 Q 322.7 70.7, 322.7 75.0 Q 322.7 79.3, 320.5 81.8 Q 318.4 84.2, 314.5 84.2 Q 310.6 84.2, 308.4 81.8 Q 306.3 79.4, 306.3 75.0 M 314.5 82.2 Q 317.2 82.2, 318.7 80.4 Q 320.2 78.6, 320.2 75.0 Q 320.2 71.5, 318.7 69.7 Q 317.2 67.9, 314.5 67.9 Q 311.8 67.9, 310.3 69.7 Q 308.8 71.5, 308.8 75.0 Q 308.8 78.6, 310.3 80.4 Q 311.8 82.2, 314.5 82.2 \" fill=\"#FF0000\"/>\n<path class=\"atom-6\" d=\"M 324.0 66.1 L 326.4 66.1 L 326.4 73.7 L 335.5 73.7 L 335.5 66.1 L 337.9 66.1 L 337.9 84.0 L 335.5 84.0 L 335.5 75.7 L 326.4 75.7 L 326.4 84.0 L 324.0 84.0 L 324.0 66.1 \" fill=\"#FF0000\"/>\n<path class=\"note\" d=\"M 225.3 143.2 Q 223.7 143.2, 222.8 142.0 Q 222.0 140.8, 222.0 138.6 Q 222.0 136.5, 222.8 135.3 Q 223.6 134.1, 225.3 134.1 Q 226.9 134.1, 227.8 135.3 Q 228.6 136.5, 228.6 138.6 Q 228.6 140.8, 227.7 142.0 Q 226.9 143.2, 225.3 143.2 M 225.3 142.2 Q 226.3 142.2, 226.8 141.3 Q 227.3 140.4, 227.3 138.6 Q 227.3 136.9, 226.8 136.0 Q 226.3 135.1, 225.3 135.1 Q 224.3 135.1, 223.8 136.0 Q 223.3 136.9, 223.3 138.6 Q 223.3 140.4, 223.8 141.3 Q 224.3 142.2, 225.3 142.2 \" fill=\"#000000\"/>\n<path class=\"note\" d=\"M 149.6 142.0 L 151.6 142.0 L 151.6 135.4 L 149.4 136.1 L 149.1 135.3 L 151.9 134.1 L 152.8 134.2 L 152.8 142.0 L 154.5 142.0 L 154.5 143.1 L 149.6 143.1 L 149.6 142.0 \" fill=\"#000000\"/>\n<path class=\"note\" d=\"M 112.1 72.2 Q 112.4 71.4, 113.2 70.9 Q 114.0 70.4, 115.1 70.4 Q 116.4 70.4, 117.2 71.2 Q 118.0 71.9, 118.0 73.2 Q 118.0 74.5, 117.0 75.8 Q 116.0 77.0, 114.0 78.5 L 118.1 78.5 L 118.1 79.5 L 112.1 79.5 L 112.1 78.6 Q 113.8 77.4, 114.7 76.5 Q 115.7 75.7, 116.2 74.9 Q 116.7 74.1, 116.7 73.3 Q 116.7 72.4, 116.3 71.9 Q 115.8 71.4, 115.1 71.4 Q 114.4 71.4, 113.9 71.7 Q 113.4 72.0, 113.1 72.7 L 112.1 72.2 \" fill=\"#000000\"/>\n<path class=\"note\" d=\"M 153.1 11.1 Q 154.0 11.4, 154.4 12.0 Q 154.8 12.5, 154.8 13.4 Q 154.8 14.1, 154.5 14.7 Q 154.1 15.3, 153.4 15.6 Q 152.7 16.0, 151.8 16.0 Q 150.8 16.0, 150.1 15.6 Q 149.4 15.3, 148.8 14.6 L 149.6 13.9 Q 150.1 14.5, 150.6 14.7 Q 151.0 15.0, 151.8 15.0 Q 152.6 15.0, 153.1 14.5 Q 153.6 14.1, 153.6 13.4 Q 153.6 12.5, 153.1 12.1 Q 152.5 11.7, 151.5 11.7 L 150.8 11.7 L 150.8 10.7 L 151.4 10.7 Q 152.3 10.7, 152.9 10.3 Q 153.4 9.9, 153.4 9.1 Q 153.4 8.5, 153.0 8.2 Q 152.5 7.8, 151.8 7.8 Q 151.1 7.8, 150.6 8.1 Q 150.1 8.4, 149.8 9.0 L 148.9 8.6 Q 149.2 7.8, 150.0 7.3 Q 150.7 6.8, 151.8 6.8 Q 153.1 6.8, 153.9 7.4 Q 154.6 8.1, 154.6 9.1 Q 154.6 9.8, 154.2 10.3 Q 153.9 10.8, 153.1 11.1 \" fill=\"#000000\"/>\n<path class=\"note\" d=\"M 227.7 12.7 L 228.7 12.7 L 228.7 13.7 L 227.7 13.7 L 227.7 15.8 L 226.5 15.8 L 226.5 13.7 L 221.9 13.7 L 221.9 12.9 L 225.8 6.9 L 227.7 6.9 L 227.7 12.7 M 223.3 12.7 L 226.5 12.7 L 226.5 7.7 L 223.3 12.7 \" fill=\"#000000\"/>\n<path class=\"note\" d=\"M 257.0 64.7 Q 257.8 64.7, 258.4 65.1 Q 259.1 65.4, 259.4 66.0 Q 259.8 66.7, 259.8 67.5 Q 259.8 68.4, 259.3 69.1 Q 258.9 69.7, 258.2 70.1 Q 257.4 70.4, 256.6 70.4 Q 255.8 70.4, 255.0 70.1 Q 254.3 69.8, 253.8 69.2 L 254.5 68.5 Q 254.9 68.9, 255.5 69.2 Q 256.1 69.4, 256.6 69.4 Q 257.4 69.4, 258.0 68.9 Q 258.5 68.4, 258.5 67.5 Q 258.5 66.6, 258.0 66.1 Q 257.4 65.7, 256.6 65.7 Q 255.8 65.7, 254.9 66.0 L 254.2 65.7 L 254.7 61.4 L 259.2 61.4 L 259.1 62.4 L 255.7 62.4 L 255.4 65.1 Q 256.2 64.7, 257.0 64.7 \" fill=\"#000000\"/>\n<path class=\"note\" d=\"M 325.4 92.1 Q 326.2 92.1, 326.8 92.4 Q 327.4 92.7, 327.8 93.4 Q 328.1 94.0, 328.1 94.8 Q 328.1 95.6, 327.7 96.3 Q 327.3 97.0, 326.6 97.4 Q 326.0 97.7, 325.1 97.7 Q 323.5 97.7, 322.7 96.7 Q 321.9 95.6, 321.9 93.4 Q 321.9 91.1, 322.9 89.9 Q 323.9 88.6, 325.8 88.6 Q 326.3 88.6, 326.8 88.7 Q 327.3 88.9, 327.7 89.1 L 327.2 90.0 Q 326.6 89.6, 325.8 89.6 Q 324.5 89.6, 323.9 90.4 Q 323.3 91.3, 323.2 92.9 Q 323.6 92.5, 324.2 92.3 Q 324.8 92.1, 325.4 92.1 M 325.1 96.7 Q 325.6 96.7, 326.0 96.5 Q 326.4 96.2, 326.6 95.8 Q 326.8 95.3, 326.8 94.8 Q 326.8 94.0, 326.4 93.5 Q 326.0 93.1, 325.2 93.1 Q 324.6 93.1, 324.1 93.3 Q 323.6 93.5, 323.2 93.9 Q 323.2 95.4, 323.7 96.0 Q 324.2 96.7, 325.1 96.7 \" fill=\"#000000\"/>\n</svg>",
      "text/plain": [
       "<IPython.core.display.SVG object>"
      ]
     },
     "execution_count": 16,
     "metadata": {},
     "output_type": "execute_result"
    }
   ],
   "source": [
    "from rdkit.Chem.Draw import rdMolDraw2D\n",
    "from IPython.display import SVG\n",
    "\n",
    "\n",
    "m = Chem.MolFromSmiles('c1ccccc1O')\n",
    "patt = Chem.MolFromSmarts('ccO')\n",
    "\n",
    "d = rdMolDraw2D.MolDraw2DSVG(450, 150)\n",
    "do = d.drawOptions()\n",
    "do.addAtomIndices = True\n",
    "d.DrawMolecule(m)\n",
    "d.FinishDrawing()\n",
    "SVG(d.GetDrawingText())"
   ]
  },
  {
   "cell_type": "code",
   "execution_count": 17,
   "metadata": {
    "collapsed": false,
    "pycharm": {
     "name": "#%%\n"
    }
   },
   "outputs": [
    {
     "name": "stdout",
     "output_type": "stream",
     "text": [
      "True\n",
      "(0, 5, 6)\n",
      "((0, 5, 6), (4, 5, 6))\n"
     ]
    }
   ],
   "source": [
    "print(m.HasSubstructMatch(patt))\n",
    "print(m.GetSubstructMatch(patt))\n",
    "print(m.GetSubstructMatches(patt))"
   ]
  },
  {
   "cell_type": "markdown",
   "metadata": {
    "collapsed": false,
    "pycharm": {
     "name": "#%% md\n"
    }
   },
   "source": [
    "也可以通过 `MolFragmentToSmiles()` 输出匹配子结构的 SMILES。"
   ]
  },
  {
   "cell_type": "code",
   "execution_count": 18,
   "metadata": {
    "collapsed": false,
    "pycharm": {
     "name": "#%%\n"
    }
   },
   "outputs": [
    {
     "name": "stdout",
     "output_type": "stream",
     "text": [
      "ccO\n"
     ]
    }
   ],
   "source": [
    "print(Chem.MolFragmentToSmiles(m, atomsToUse=m.GetSubstructMatch(patt), rootedAtAtom=0))"
   ]
  },
  {
   "cell_type": "markdown",
   "metadata": {
    "collapsed": false,
    "pycharm": {
     "name": "#%% md\n"
    }
   },
   "source": [
    "### 搜索多个分子\n",
    "\n",
    "利用 `HasSubstructMatch()` 的特性，可以轻松地搜索多个分子并将相应分子加入列表。pattern 子结构也可以使用 SMILES 表示，但 SMILES 的功能较 SMARTS 有限，许多结构无法表示出来。"
   ]
  },
  {
   "cell_type": "code",
   "execution_count": 19,
   "metadata": {
    "collapsed": false,
    "pycharm": {
     "name": "#%%\n"
    }
   },
   "outputs": [
    {
     "data": {
      "text/plain": [
       "1"
      ]
     },
     "execution_count": 19,
     "metadata": {},
     "output_type": "execute_result"
    }
   ],
   "source": [
    "patt = Chem.MolFromSmiles('c1ccccc1')\n",
    "with Chem.SDMolSupplier(\"./mols.sdf\") as suppl:\n",
    "    matches = [x for x in suppl if x.HasSubstructMatch(patt)]\n",
    "len(matches)"
   ]
  },
  {
   "cell_type": "markdown",
   "metadata": {
    "collapsed": false,
    "pycharm": {
     "name": "#%% md\n"
    }
   },
   "source": [
    "### 为子结构着色\n",
    "\n",
    "由于 `GetSubstructMatch()` 得到的是原子索引，还需要迭代获取子匹配子结构的化学键索引。首先通过 `patt.GetBonds()` 遍历子结构中的化学键，再通过 `hit_atom` 将化学键首末端原子映射为完整分子中的索引。因为 `hit_atom` 是元组，元组中元素的位置即子结构中的索引，而元素的值就是完整分子中的索引，所以可以像字典一样使用。再通过 `GetBondBetweenAtoms(begin, end)` 获取首末原子间的化学键，使用 `GetIdx()` 获筛键索引，即可高亮绘制出子结构。"
   ]
  },
  {
   "cell_type": "code",
   "execution_count": 20,
   "metadata": {
    "collapsed": false,
    "pycharm": {
     "name": "#%%\n"
    }
   },
   "outputs": [
    {
     "data": {
      "image/png": "[encoded data removed]",
      "text/plain": [
       "<PIL.PngImagePlugin.PngImageFile image mode=RGB size=450x150>"
      ]
     },
     "execution_count": 20,
     "metadata": {},
     "output_type": "execute_result"
    }
   ],
   "source": [
    "from rdkit.Chem import Draw\n",
    "\n",
    "\n",
    "m = Chem.MolFromSmiles('Cc1cccc(C)c1C(C)=NC')\n",
    "patt = Chem.MolFromSmarts( '[cH0:1][c:2]([cH0])!@[CX3!r:3]=[NX2!r:4]' )\n",
    "\n",
    "hit_atom = m.GetSubstructMatch(patt)\n",
    "hit_bond = []\n",
    "for bond in patt.GetBonds():\n",
    "    begin = hit_atom[bond.GetBeginAtomIdx()]\n",
    "    end = hit_atom[bond.GetEndAtomIdx()]\n",
    "    hit_bond.append(m.GetBondBetweenAtoms(begin, end).GetIdx())\n",
    "\n",
    "Draw.MolToImage(m, size=(450, 150), highlightAtoms=hit_atom, highlightBonds=hit_bond)"
   ]
  },
  {
   "cell_type": "markdown",
   "metadata": {
    "collapsed": false,
    "pycharm": {
     "name": "#%% md\n"
    }
   },
   "source": [
    "---\n",
    "\n",
    "## Reference\n",
    "\n",
    "- [Getting Started with the RDKit in Python - RDKit](https://www.rdkit.org/docs/GettingStartedInPython.html)\n",
    "- [@dreadlesss/rdkit_summary/modifying_molecules - Github](https://github.com/dreadlesss/rdkit_summary/blob/master/modifying_molecules.ipynb)\n",
    "- [@dreadlesss/rdkit_summary/substructure_search_and_highlight - Github](https://github.com/dreadlesss/rdkit_summary/blob/master/substructure_search_and_highlight.ipynb)\n"
   ]
  }
 ],
 "metadata": {
  "kernelspec": {
   "display_name": "Python 3.9.2 64-bit",
   "language": "python",
   "name": "python3"
  },
  "language_info": {
   "codemirror_mode": {
    "name": "ipython",
    "version": 2
   },
   "file_extension": ".py",
   "mimetype": "text/x-python",
   "name": "python",
   "nbconvert_exporter": "python",
   "pygments_lexer": "ipython2",
   "version": "3.9.2"
  },
  "vscode": {
   "interpreter": {
    "hash": "916dbcbb3f70747c44a77c7bcd40155683ae19c65e1c03b4aa3499c5328201f1"
   }
  }
 },
 "nbformat": 4,
 "nbformat_minor": 0
}
