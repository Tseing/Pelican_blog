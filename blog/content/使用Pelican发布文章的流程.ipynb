{
 "cells": [
  {
   "cell_type": "markdown",
   "metadata": {},
   "source": [
    "本文环境为Linux，首先在content目录中创建.nbdata与.ipynb的同名文件。.nbdata文件中保存了文章的结构信息，而.ipynb使用jupyter notebook保存了文章的具体内容。"
   ]
  },
  {
   "cell_type": "code",
   "execution_count": null,
   "metadata": {
    "vscode": {
     "languageId": "bat"
    }
   },
   "outputs": [],
   "source": [
    ".nbdata\n",
    "Title: 文章标题\n",
    "Slug: 文章地址\"://../<Slug>\"\n",
    "Date: 时间\n",
    "Category: 类别\n",
    "Tags: 标签\n",
    "Author: 作者\n",
    "Summary: 概要"
   ]
  },
  {
   "cell_type": "markdown",
   "metadata": {},
   "source": [
    "在撰写文章后，进入虚拟环境，使用Pelican生成html文件。"
   ]
  },
  {
   "cell_type": "code",
   "execution_count": null,
   "metadata": {
    "vscode": {
     "languageId": "bat"
    }
   },
   "outputs": [],
   "source": [
    "origin ./venv/bin/activate\n",
    "pelican content -s publishconf.py"
   ]
  },
  {
   "cell_type": "markdown",
   "metadata": {},
   "source": [
    "最后将output文件夹同步至Github中<username>.github.io仓库即完成文章的发布。"
   ]
  },
  {
   "cell_type": "code",
   "execution_count": null,
   "metadata": {
    "vscode": {
     "languageId": "bat"
    }
   },
   "outputs": [],
   "source": [
    "git add .\n",
    "git commit\n",
    "git push"
   ]
  }
 ],
 "metadata": {
  "language_info": {
   "name": "python"
  },
  "orig_nbformat": 4
 },
 "nbformat": 4,
 "nbformat_minor": 2
}
